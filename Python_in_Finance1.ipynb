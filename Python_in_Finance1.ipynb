{
 "cells": [
  {
   "cell_type": "markdown",
   "metadata": {},
   "source": [
    "#### Basics of importing financial(Stock) data using the pandas framework."
   ]
  },
  {
   "cell_type": "code",
   "execution_count": 33,
   "metadata": {},
   "outputs": [],
   "source": [
    "import datetime as dt\n",
    "import matplotlib.pyplot as plt\n",
    "from matplotlib import style\n",
    "import pandas as pd\n",
    "import pandas_datareader.data as web"
   ]
  },
  {
   "cell_type": "code",
   "execution_count": 34,
   "metadata": {},
   "outputs": [],
   "source": [
    "# Starting setup \n",
    "\n",
    "style.use('ggplot')\n",
    "\n",
    "start = dt.datetime(2020, 1, 1)\n",
    "end = dt.datetime.now()"
   ]
  },
  {
   "cell_type": "code",
   "execution_count": 36,
   "metadata": {},
   "outputs": [],
   "source": [
    "df = web.DataReader(\"TSLA\", 'yahoo', start, end)"
   ]
  },
  {
   "cell_type": "code",
   "execution_count": 37,
   "metadata": {},
   "outputs": [
    {
     "name": "stdout",
     "output_type": "stream",
     "text": [
      "                 High        Low       Open      Close      Volume  Adj Close\n",
      "Date                                                                         \n",
      "2019-12-31  84.258003  80.416000  81.000000  83.666000  51428500.0  83.666000\n",
      "2020-01-02  86.139999  84.342003  84.900002  86.052002  47660500.0  86.052002\n",
      "2020-01-03  90.800003  87.384003  88.099998  88.601997  88892500.0  88.601997\n",
      "2020-01-06  90.311996  88.000000  88.094002  90.307999  50665000.0  90.307999\n",
      "2020-01-07  94.325996  90.671997  92.279999  93.811996  89410500.0  93.811996\n"
     ]
    }
   ],
   "source": [
    "print(df.head())"
   ]
  },
  {
   "cell_type": "code",
   "execution_count": 40,
   "metadata": {},
   "outputs": [
    {
     "name": "stdout",
     "output_type": "stream",
     "text": [
      "                 High        Low       Open      Close      Volume  Adj Close\n",
      "Date                                                                         \n",
      "2019-12-31  84.258003  80.416000  81.000000  83.666000  51428500.0  83.666000\n",
      "2020-01-02  86.139999  84.342003  84.900002  86.052002  47660500.0  86.052002\n",
      "2020-01-03  90.800003  87.384003  88.099998  88.601997  88892500.0  88.601997\n",
      "2020-01-06  90.311996  88.000000  88.094002  90.307999  50665000.0  90.307999\n",
      "2020-01-07  94.325996  90.671997  92.279999  93.811996  89410500.0  93.811996\n"
     ]
    }
   ],
   "source": [
    "# To simplify this dataframe.\n",
    "\n",
    "df.reset_index(inplace=True)\n",
    "df.set_index(\"Date\", inplace=True)\n",
    "\n",
    "print(df.head())"
   ]
  },
  {
   "cell_type": "code",
   "execution_count": null,
   "metadata": {},
   "outputs": [],
   "source": []
  }
 ],
 "metadata": {
  "kernelspec": {
   "display_name": "Python 3",
   "language": "python",
   "name": "python3"
  },
  "language_info": {
   "codemirror_mode": {
    "name": "ipython",
    "version": 3
   },
   "file_extension": ".py",
   "mimetype": "text/x-python",
   "name": "python",
   "nbconvert_exporter": "python",
   "pygments_lexer": "ipython3",
   "version": "3.7.6"
  }
 },
 "nbformat": 4,
 "nbformat_minor": 4
}
